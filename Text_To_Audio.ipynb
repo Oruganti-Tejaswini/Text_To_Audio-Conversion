{
 "cells": [
  {
   "cell_type": "code",
   "execution_count": 9,
   "id": "bda14e3e",
   "metadata": {
    "collapsed": true
   },
   "outputs": [
    {
     "name": "stdout",
     "output_type": "stream",
     "text": [
      "Requirement already satisfied: gtts in ./opt/anaconda3/lib/python3.9/site-packages (2.2.3)\n",
      "Requirement already satisfied: click in ./opt/anaconda3/lib/python3.9/site-packages (from gtts) (8.0.3)\n",
      "Requirement already satisfied: requests in ./opt/anaconda3/lib/python3.9/site-packages (from gtts) (2.26.0)\n",
      "Requirement already satisfied: six in ./opt/anaconda3/lib/python3.9/site-packages (from gtts) (1.16.0)\n",
      "Requirement already satisfied: urllib3<1.27,>=1.21.1 in ./opt/anaconda3/lib/python3.9/site-packages (from requests->gtts) (1.26.7)\n",
      "Requirement already satisfied: charset-normalizer~=2.0.0 in ./opt/anaconda3/lib/python3.9/site-packages (from requests->gtts) (2.0.4)\n",
      "Requirement already satisfied: idna<4,>=2.5 in ./opt/anaconda3/lib/python3.9/site-packages (from requests->gtts) (3.2)\n",
      "Requirement already satisfied: certifi>=2017.4.17 in ./opt/anaconda3/lib/python3.9/site-packages (from requests->gtts) (2021.10.8)\n"
     ]
    }
   ],
   "source": [
    "!pip install gtts"
   ]
  },
  {
   "cell_type": "code",
   "execution_count": 12,
   "id": "af35b89a",
   "metadata": {},
   "outputs": [],
   "source": [
    "from gtts import gTTS\n",
    "import os\n",
    "  \n",
    "mytext = 'My name is Anush. I am a bit goooddd and bit bad. but often act like so cute..'\n",
    "  \n",
    "language = 'en' #en\n",
    "  \n",
    "myobj = gTTS(text=mytext, lang=language, slow=False)\n",
    "  \n",
    "myobj.save(\"Tesuro.mp3\")\n",
    "  "
   ]
  }
 ],
 "metadata": {
  "kernelspec": {
   "display_name": "Python 3 (ipykernel)",
   "language": "python",
   "name": "python3"
  },
  "language_info": {
   "codemirror_mode": {
    "name": "ipython",
    "version": 3
   },
   "file_extension": ".py",
   "mimetype": "text/x-python",
   "name": "python",
   "nbconvert_exporter": "python",
   "pygments_lexer": "ipython3",
   "version": "3.9.7"
  }
 },
 "nbformat": 4,
 "nbformat_minor": 5
}
